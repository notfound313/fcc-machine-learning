{
  "cells": [
    {
      "cell_type": "code",
      "execution_count": null,
      "metadata": {
        "id": "8RZOuS9LWQvv"
      },
      "outputs": [],
      "source": [
        "# import libraries\n",
        "\n",
        "import tensorflow as tf\n",
        "import pandas as pd\n",
        "from tensorflow import keras\n",
        "import numpy as np\n",
        "import matplotlib.pyplot as plt\n",
        "\n",
        "print(tf.__version__)"
      ]
    },
    {
      "cell_type": "code",
      "execution_count": null,
      "metadata": {
        "id": "lMHwYXHXCar3"
      },
      "outputs": [],
      "source": [
        "# get data files\n",
        "!wget https://cdn.freecodecamp.org/project-data/sms/train-data.tsv\n",
        "!wget https://cdn.freecodecamp.org/project-data/sms/valid-data.tsv\n",
        "\n",
        "train_file_path = \"train-data.tsv\"\n",
        "test_file_path = \"valid-data.tsv\""
      ]
    },
    {
      "cell_type": "code",
      "execution_count": null,
      "metadata": {
        "id": "g_h508FEClxO"
      },
      "outputs": [],
      "source": [
        "#load dataset\n",
        "df_train = pd.read_csv(train_file_path,sep=\"\\t\", header=None, names = ['label','text'])\n",
        "df_test = pd.read_csv(test_file_path,sep=\"\\t\", header=None, names = ['label','text'])\n"
      ]
    },
    {
      "cell_type": "code",
      "source": [
        "df_train.head()"
      ],
      "metadata": {
        "id": "txEs45SlaCAe"
      },
      "execution_count": null,
      "outputs": []
    },
    {
      "cell_type": "code",
      "source": [
        "df_test.tail()"
      ],
      "metadata": {
        "id": "rSMzjAROaIg6"
      },
      "execution_count": null,
      "outputs": []
    },
    {
      "cell_type": "code",
      "source": [
        "print(df_train.shape)\n",
        "print(df_test.shape)"
      ],
      "metadata": {
        "id": "kf3BhK8gaTY3"
      },
      "execution_count": null,
      "outputs": []
    },
    {
      "cell_type": "code",
      "source": [
        "#transformdata Categorical to Numeric\n",
        "from sklearn.preprocessing import LabelEncoder\n",
        "\n",
        "labelencoder = LabelEncoder()\n",
        "df_train['label'] = labelencoder.fit_transform(df_train['label'])\n",
        "df_test['label'] = labelencoder.fit_transform(df_test['label'])\n",
        "\n",
        "\n",
        "df_train.head()"
      ],
      "metadata": {
        "id": "naZ1YZqh-ttU"
      },
      "execution_count": null,
      "outputs": []
    },
    {
      "cell_type": "code",
      "source": [
        "labels_train = df_train['label']\n",
        "labels_test = df_test['label']"
      ],
      "metadata": {
        "id": "JFo1GcqTio9c"
      },
      "execution_count": null,
      "outputs": []
    },
    {
      "cell_type": "code",
      "source": [
        "labels_train.shape"
      ],
      "metadata": {
        "id": "HAMMoDkOvwZW"
      },
      "execution_count": null,
      "outputs": []
    },
    {
      "cell_type": "code",
      "source": [
        "#visualization for each label\n",
        "import seaborn as sns\n",
        "plt.figure(figsize=(8,4))\n",
        "sns.countplot(x='label', hue='label',data=df_train)"
      ],
      "metadata": {
        "id": "5rDv_XI9-yPv"
      },
      "execution_count": null,
      "outputs": []
    },
    {
      "cell_type": "code",
      "source": [
        "#preprocessing word\n",
        "import nltk\n",
        "import requests\n",
        "import string\n",
        "import re\n",
        "from nltk.stem import WordNetLemmatizer\n",
        "from nltk.corpus import stopwords\n",
        "nltk.download('punkt')\n",
        "nltk.download('stopwords')\n",
        "nltk.download('wordnet')"
      ],
      "metadata": {
        "id": "9OoFjfe5-2e1"
      },
      "execution_count": null,
      "outputs": []
    },
    {
      "cell_type": "code",
      "source": [
        "#clean stopwords and text\n",
        "stopList = set(stopwords.words('english'))"
      ],
      "metadata": {
        "id": "8Wr3i-emdTYK"
      },
      "execution_count": null,
      "outputs": []
    },
    {
      "cell_type": "code",
      "source": [
        "lemmat = WordNetLemmatizer()\n",
        "\n",
        "def cleaning(data):\n",
        "  data = re.sub('[%s]' % re.escape(string.punctuation), ' ',data)\n",
        "  data = str(data.lower()).strip()\n",
        "  tokens=[]\n",
        "  for token in data.split():\n",
        "    if token not in stopList:\n",
        "      token = lemmat.lemmatize(token)\n",
        "      tokens.append(token)\n",
        "  return \" \".join(tokens)"
      ],
      "metadata": {
        "id": "niVQZDwcdo8t"
      },
      "execution_count": null,
      "outputs": []
    },
    {
      "cell_type": "code",
      "source": [
        "df_train['text'] = df_train.text.apply(lambda x: cleaning(x))"
      ],
      "metadata": {
        "id": "wCLq5VoSfeeE"
      },
      "execution_count": null,
      "outputs": []
    },
    {
      "cell_type": "code",
      "source": [
        "df_train.head()"
      ],
      "metadata": {
        "id": "-mYP2YqhftVn"
      },
      "execution_count": null,
      "outputs": []
    },
    {
      "cell_type": "code",
      "source": [
        "df_test['text'] = df_test.text.apply(lambda x: cleaning(x))"
      ],
      "metadata": {
        "id": "tSOcj_sqvnV9"
      },
      "execution_count": null,
      "outputs": []
    },
    {
      "cell_type": "code",
      "source": [
        "#vectorize\n",
        "from keras.preprocessing.text import Tokenizer\n",
        "from keras.preprocessing.sequence import pad_sequences\n"
      ],
      "metadata": {
        "id": "k3Z3e9-jjEms"
      },
      "execution_count": null,
      "outputs": []
    },
    {
      "cell_type": "code",
      "source": [
        "maxLen= 500\n",
        "max_words = 1000"
      ],
      "metadata": {
        "id": "OZtL8MyHBmNg"
      },
      "execution_count": null,
      "outputs": []
    },
    {
      "cell_type": "code",
      "source": [
        "tokenizer = Tokenizer(num_words=max_words)\n",
        "tokenizer.fit_on_texts(df_train.text)\n",
        "X_train_seq = tokenizer.texts_to_sequences(df_train.text)\n",
        "X_test_seq = tokenizer.texts_to_sequences(df_test.text)"
      ],
      "metadata": {
        "id": "4As1YFxT-mC3"
      },
      "execution_count": null,
      "outputs": []
    },
    {
      "cell_type": "code",
      "source": [
        "print(X_train_seq[:5])\n",
        "print(df_train.iloc[0,:])\n",
        "\n"
      ],
      "metadata": {
        "id": "tQqyl69q_Wgk"
      },
      "execution_count": null,
      "outputs": []
    },
    {
      "cell_type": "code",
      "source": [
        "X_train_pad = pad_sequences(X_train_seq, maxlen=maxLen, padding='pre')\n",
        "X_test_pad = pad_sequences(X_test_seq, maxlen=maxLen, padding='pre')\n",
        "X_train_pad.shape"
      ],
      "metadata": {
        "id": "HuFrVNe8AWEu"
      },
      "execution_count": null,
      "outputs": []
    },
    {
      "cell_type": "code",
      "source": [
        "X_train_pad[:5]"
      ],
      "metadata": {
        "id": "4Hva7PGCF2y9"
      },
      "execution_count": null,
      "outputs": []
    },
    {
      "cell_type": "code",
      "source": [
        "model = keras.Sequential([\n",
        "    keras.layers.Embedding(max_words, 50, input_length=maxLen),\n",
        "    keras.layers.LSTM(64),\n",
        "    keras.layers.Dense(1, activation='sigmoid')\n",
        "])\n",
        "\n",
        "\n",
        "model.compile(\n",
        "    loss='binary_crossentropy',\n",
        "    optimizer='RMSprop',\n",
        "    metrics=['accuracy']\n",
        ")\n",
        "model.summary()"
      ],
      "metadata": {
        "id": "-su2MjZYA90E"
      },
      "execution_count": null,
      "outputs": []
    },
    {
      "cell_type": "code",
      "execution_count": null,
      "metadata": {
        "id": "zOMKywn4zReN"
      },
      "outputs": [],
      "source": [
        "model.compile(loss=\"binary_crossentropy\",optimizer=\"rmsprop\",metrics=['acc'])"
      ]
    },
    {
      "cell_type": "code",
      "source": [
        "history = model.fit(X_train_pad, labels_train,\n",
        "              batch_size=128, epochs= 10,\n",
        "              validation_split=0.2,\n",
        "             )"
      ],
      "metadata": {
        "id": "0NKS0rSn_VqN"
      },
      "execution_count": null,
      "outputs": []
    },
    {
      "cell_type": "code",
      "source": [
        "plt.plot(history.history['acc'], label='accuracy')\n",
        "plt.plot(history.history['val_acc'], label='val_acc')\n",
        "plt.legend()"
      ],
      "metadata": {
        "id": "dkmjx5f0Kuwc"
      },
      "execution_count": null,
      "outputs": []
    },
    {
      "cell_type": "code",
      "source": [
        "plt.plot(history.history['loss'], label='loss')\n",
        "plt.plot(history.history['val_loss'], label='val_loss')\n",
        "plt.legend()"
      ],
      "metadata": {
        "id": "-x95EcCaKcY_"
      },
      "execution_count": null,
      "outputs": []
    },
    {
      "cell_type": "code",
      "source": [
        "#evaluation\n",
        "y_pred=model.predict(X_test_pad)\n",
        "y_pred=(y_pred>0.5)"
      ],
      "metadata": {
        "id": "uTh6PygEJw4u"
      },
      "execution_count": null,
      "outputs": []
    },
    {
      "cell_type": "code",
      "source": [
        "from sklearn.metrics import accuracy_score,confusion_matrix\n",
        "score=accuracy_score(labels_test,y_pred)\n",
        "print(\"Test Score:{:.2f}%\".format(score*100))"
      ],
      "metadata": {
        "id": "dPTs7Bw0J7UK"
      },
      "execution_count": null,
      "outputs": []
    },
    {
      "cell_type": "code",
      "source": [
        "def pre_text(X):\n",
        "  x = X.apply(lambda x: cleaning(x))\n",
        "  x = tokenizer.texts_to_sequences(x)\n",
        "  return pad_sequences(x, maxlen=maxLen)"
      ],
      "metadata": {
        "id": "ZRvXMUeDL3s3"
      },
      "execution_count": null,
      "outputs": []
    },
    {
      "cell_type": "code",
      "execution_count": null,
      "metadata": {
        "id": "J9tD9yACG6M9"
      },
      "outputs": [],
      "source": [
        "# function to predict messages based on model\n",
        "# (should return list containing prediction and label, ex. [0.008318834938108921, 'ham'])\n",
        "def predict_message(pred_text):\n",
        "  p = model.predict(pre_text(pd.Series([pred_text])))[0]\n",
        "\n",
        "  return (p[0], (\"ham\" if p<0.5 else \"spam\"))\n",
        "\n",
        "pred_text = \"how are you doing today?\"\n",
        "\n",
        "prediction = predict_message(pred_text)\n",
        "print(prediction)"
      ]
    },
    {
      "cell_type": "code",
      "execution_count": null,
      "metadata": {
        "id": "Dxotov85SjsC"
      },
      "outputs": [],
      "source": [
        "# Run this cell to test your function and model. Do not modify contents.\n",
        "def test_predictions():\n",
        "  test_messages = [\"how are you doing today\",\n",
        "                   \"sale today! to stop texts call 98912460324\",\n",
        "                   \"i dont want to go. can we try it a different day? available sat\",\n",
        "                   \"our new mobile video service is live. just install on your phone to start watching.\",\n",
        "                   \"you have won £1000 cash! call to claim your prize.\",\n",
        "                   \"i'll bring it tomorrow. don't forget the milk.\",\n",
        "                   \"wow, is your arm alright. that happened to me one time too\"\n",
        "                  ]\n",
        "\n",
        "  test_answers = [\"ham\", \"spam\", \"ham\", \"spam\", \"spam\", \"ham\", \"ham\"]\n",
        "  passed = True\n",
        "\n",
        "  for msg, ans in zip(test_messages, test_answers):\n",
        "    prediction = predict_message(msg)\n",
        "    if prediction[1] != ans:\n",
        "      passed = False\n",
        "\n",
        "  if passed:\n",
        "    print(\"You passed the challenge. Great job!\")\n",
        "  else:\n",
        "    print(\"You haven't passed yet. Keep trying.\")\n",
        "\n",
        "test_predictions()\n"
      ]
    }
  ],
  "metadata": {
    "colab": {
      "private_outputs": true,
      "provenance": [],
      "gpuType": "T4"
    },
    "kernelspec": {
      "display_name": "Python 3",
      "name": "python3"
    },
    "language_info": {},
    "accelerator": "GPU"
  },
  "nbformat": 4,
  "nbformat_minor": 0
}